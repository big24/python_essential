{
 "cells": [
  {
   "cell_type": "markdown",
   "metadata": {},
   "source": [
    "# 字典 Dict"
   ]
  },
  {
   "cell_type": "code",
   "execution_count": null,
   "metadata": {},
   "outputs": [],
   "source": [
    "# 创建字典\n",
    "name2score = {\n",
    "    'Cat': 95,\n",
    "    'Bob': 97,\n",
    "    'Alice': 99,\n",
    "}\n",
    "\n",
    "# 判断key是否在字典中\n",
    "if 'Alice' in name2score:\n",
    "    print(name2score['Alice'])\n",
    "\n",
    "# 获取一个key对应的value with default\n",
    "print(name2score.get('Johnaton', 0))\n",
    "\n",
    "# 遍历dict中的元素\n",
    "for key, value in name2score.items():\n",
    "    print(key, value)\n",
    "\n",
    "for key in name2score.keys():\n",
    "    print(key, name2score[key])"
   ]
  },
  {
   "cell_type": "markdown",
   "metadata": {},
   "source": [
    "# 有序字典 OrderedDict"
   ]
  },
  {
   "cell_type": "code",
   "execution_count": null,
   "metadata": {},
   "outputs": [],
   "source": [
    "from collections import OrderedDict\n",
    "\n",
    "# 用两个list创建dict\n",
    "names = ['Cat', 'Bob', 'Alice']\n",
    "scores = [95, 98, 99]\n",
    "\n",
    "# zip: 相当于把两个列表的元素一一对应地组合，每一对是一个元组 \n",
    "name2score = dict(zip(names, scores))\n",
    "ordered_name2score = OrderedDict(zip(names, scores))\n",
    "\n",
    "for key, value in name2score.items():\n",
    "    print(key, value)\n",
    "\n",
    "for key, value in ordered_name2score.items():\n",
    "    print(key, value)"
   ]
  },
  {
   "cell_type": "markdown",
   "metadata": {},
   "source": [
    "# 集合 Set"
   ]
  },
  {
   "cell_type": "code",
   "execution_count": null,
   "metadata": {},
   "outputs": [],
   "source": [
    "# 定义集合1\n",
    "my_set = {1, 2, 3, 4}\n",
    "\n",
    "# 定义集合2\n",
    "your_set = set([3,4,5,6])\n",
    "\n",
    "# 空集合！\n",
    "empty_set = set([]) # 而不是empty_set = {}, 避免混淆字典\n",
    "\n",
    "# 新增\n",
    "my_set.add(5)\n",
    "\n",
    "# 删除\n",
    "my_set.remove(5)\n",
    "\n",
    "# 是否存在\n",
    "print(3 in my_set)\n",
    "\n",
    "# 交集\n",
    "print(my_set & your_set)\n",
    "\n",
    "# 并集\n",
    "print(my_set | your_set)\n",
    "\n",
    "# 对比set和list的耗时\n",
    "# 加载一个库\n",
    "import time\n",
    "\n",
    "a_list = [i for i in range(10000)]\n",
    "a_set = set(a_list)\n",
    "\n",
    "def cal_time(container):\n",
    "    start = time.time()\n",
    "    for i in range(5000):\n",
    "        if i in container:\n",
    "            pass # pass表示什么都不做\n",
    "    end = time.time()\n",
    "    return end - start\n",
    "\n",
    "list_cal_time = cal_time(a_list)\n",
    "set_cal_time = cal_time(a_set)\n",
    "# 5000次查询，list的耗时是set的很多倍\n",
    "print(list_cal_time, set_cal_time, list_cal_time / set_cal_time)"
   ]
  },
  {
   "cell_type": "markdown",
   "metadata": {},
   "source": [
    "# 排序"
   ]
  },
  {
   "cell_type": "code",
   "execution_count": null,
   "metadata": {},
   "outputs": [],
   "source": [
    "nums = [1, 2, 5, 4, 3]\n",
    "\n",
    "# list自带的排序\n",
    "nums.sort()\n",
    "print(nums)\n",
    "\n",
    "# 内置函数sorted (保留原数组)\n",
    "reverted_nums = sorted(nums, reverse=True)\n",
    "print(nums)\n",
    "print(reverted_nums)\n",
    "\n",
    "# 对复杂list的排序\n",
    "nums = [('Alice', 100), ('Bob', 96), ('Cat', 98)]\n",
    "# lambda是一个python的一个特殊的内置函数，把左边的元素作为输入，按照右边的规定进行输出\n",
    "# 这里我们指定根据列表元素的第二个组成部分(下标为1)作为排序的依据\n",
    "nums.sort(key=lambda x:x[1])\n",
    "print(nums)\n",
    "\n",
    "# 对象的排序\n",
    "\n",
    "# 定义类表示二维坐标(x,y)上的点\n",
    "class Point():\n",
    "    def __init__(self, x, y):\n",
    "        self.x = x\n",
    "        self.y = y\n",
    "    \n",
    "    def __lt__(self, other): # 定义“小于符号”\n",
    "        if self.x != other.x:\n",
    "            return self.x < other.x\n",
    "        return self.y < other.y\n",
    "\n",
    "points = [Point(3, 10), Point(4, 2), Point(3, -1), Point(1, -1), Point(4, 10)]\n",
    "points.sort()\n",
    "\n",
    "for p in points:\n",
    "    print(p.x, p.y)\n",
    "    \n",
    "points.sort(reverse=True)\n",
    "\n",
    "for p in points:\n",
    "    print(p.x, p.y)"
   ]
  },
  {
   "cell_type": "markdown",
   "metadata": {},
   "source": [
    "# lambda"
   ]
  },
  {
   "cell_type": "code",
   "execution_count": null,
   "metadata": {},
   "outputs": [],
   "source": [
    "# lambda都可以被正常的函数替代, 下面两个函数等价\n",
    "lambda_exp_base2 = lambda x: 2 ** x\n",
    "\n",
    "def exp_base2(x):\n",
    "    return 2 ** x\n",
    "\n",
    "print(lambda_exp_base2(3))\n",
    "print(exp_base2(3))\n",
    "\n",
    "# lambda能否具有多个参数?\n",
    "def exp(x, y):\n",
    "    return x ** y\n",
    "\n",
    "lambda_exp = lambda x, y: x ** y\n",
    "\n",
    "print(exp(2, 3))\n",
    "print(lambda_exp(2, 3))"
   ]
  },
  {
   "cell_type": "markdown",
   "metadata": {},
   "source": [
    "# filter"
   ]
  },
  {
   "cell_type": "code",
   "execution_count": null,
   "metadata": {},
   "outputs": [],
   "source": [
    "# filter的语法是，前面定义一个过滤函数，后面放进入一个序列结构，如果前面的函数对序列里的一个元素返回值为真，则元素被保留，否则被过滤掉。\n",
    "odd_number = filter(lambda x: x % 2 == 1, [1, 2, 3, 4, 5])\n",
    "print(type(odd_number))\n",
    "print(list(odd_number))"
   ]
  },
  {
   "cell_type": "markdown",
   "metadata": {},
   "source": [
    "# map"
   ]
  },
  {
   "cell_type": "code",
   "execution_count": null,
   "metadata": {},
   "outputs": [],
   "source": [
    "exp_base2_seq = map(lambda x: 2 ** x, [1, 2, 3, 4, 5])\n",
    "print(type(exp_base2_seq))\n",
    "print(list(exp_base2_seq))"
   ]
  },
  {
   "cell_type": "markdown",
   "metadata": {},
   "source": [
    "# reduce"
   ]
  },
  {
   "cell_type": "code",
   "execution_count": null,
   "metadata": {},
   "outputs": [],
   "source": [
    "from functools import reduce\n",
    "cumulated_exp = reduce(lambda x, y: x  ** y, [2, 3, 4, 5])\n",
    "print(cumulated_exp)\n",
    "\n",
    "# 等价代码\n",
    "cumulated_exp = 0\n",
    "for i, num in enumerate([2, 3, 4, 5]):\n",
    "    if i == 0:\n",
    "        cumulated_exp = num\n",
    "    else:\n",
    "        cumulated_exp = cumulated_exp ** num\n",
    "\n",
    "print(cumulated_exp)"
   ]
  },
  {
   "cell_type": "markdown",
   "metadata": {},
   "source": [
    "# 迭代器"
   ]
  },
  {
   "cell_type": "code",
   "execution_count": null,
   "metadata": {},
   "outputs": [],
   "source": [
    "# 迭代器是可以记住遍历位置的对象\n",
    "num_list = [10, 11, 12, 13]\n",
    "\n",
    "# 创建迭代器\n",
    "it = iter(num_list)\n",
    "\n",
    "# 取第一个元素\n",
    "print(next(it))\n",
    "# it记住了当前遍历的位置, 再执行一次会取出第2个元素\n",
    "print(next(it))\n",
    "# it记住了当前遍历的位置, 再执行一次会取出第3个元素\n",
    "print(next(it))\n",
    "# it记住了当前遍历的位置, 再执行一次会取出第4个元素\n",
    "print(next(it))\n",
    "# it记住了当前遍历的位置, 再执行一次会报错\n",
    "# print(next(it))\n",
    "\n",
    "\n",
    "# 生成无限序列\n",
    "from itertools import count\n",
    "counter = count(start=1)\n",
    "\n",
    "# 从有限序列生成无限序列\n",
    "from itertools import cycle\n",
    "colors = cycle(['red', 'yellow', 'green'])"
   ]
  },
  {
   "cell_type": "code",
   "execution_count": null,
   "metadata": {},
   "outputs": [],
   "source": [
    "for i in range(5):\n",
    "    print(next(counter), next(colors))"
   ]
  },
  {
   "cell_type": "code",
   "execution_count": null,
   "metadata": {},
   "outputs": [],
   "source": [
    "# 在迭代器中的切片\n",
    "from itertools import islice\n",
    "# 取出无限序列从当前位置起的第100-140个元素\n",
    "content = islice(counter, 100, 140)\n",
    "print(list(content))"
   ]
  },
  {
   "cell_type": "markdown",
   "metadata": {},
   "source": [
    "# 生成器"
   ]
  },
  {
   "cell_type": "code",
   "execution_count": null,
   "metadata": {},
   "outputs": [],
   "source": [
    "# 使用了yield的函数被称为生成器（generator）, 生成器是一种优雅的特殊迭代器\n",
    "\n",
    "# 无限循环的斐波那契额序列\n",
    "def fib():\n",
    "    a, b = 0, 1\n",
    "    while True:\n",
    "        yield a\n",
    "        a, b = b, a + b\n",
    "\n",
    "# 会进入死循环吗？\n",
    "fib_nums = fib()\n",
    "print(next(fib_nums))"
   ]
  },
  {
   "cell_type": "code",
   "execution_count": null,
   "metadata": {},
   "outputs": [],
   "source": [
    "# 生成器的简介写法\n",
    "multiples_gen = (i for i in range(30) if i % 3 == 0)\n",
    "print(type(multiples_gen))\n",
    "print(next(multiples_gen))"
   ]
  },
  {
   "cell_type": "markdown",
   "metadata": {},
   "source": [
    "# Comprehensions"
   ]
  },
  {
   "cell_type": "code",
   "execution_count": null,
   "metadata": {},
   "outputs": [],
   "source": [
    "# Comprehensions 是一种允许用序列生成序列的结构\n",
    "# list: 中括号 [comprehension]\n",
    "# dict: 大括号 + key-value  {key-value comprehension}\n",
    "# set:  大括号 {comprehension}\n",
    "# generator: 小括号 (comprehension)\n",
    "\n",
    "# list comprehension \n",
    "multiples = [i for i in range(30) if i % 3 == 0]\n",
    "print(type(multiples))\n",
    "\n",
    "# dict comprehension \n",
    "names = ['Cat', 'Bob', 'Alice']\n",
    "scores = [95, 98, 99]\n",
    "name2score = {name:score for name, score in zip(names, scores)}\n",
    "print(type(name2score))\n",
    "\n",
    "# set comprehension \n",
    "squared = {x**2 for x in [1, 1, 2]}\n",
    "print(type(squared))\n",
    "\n",
    "# generator comprehension\n",
    "multiples_gen = (i for i in range(30) if i % 3 == 0)\n",
    "print(type(multiples_gen))"
   ]
  }
 ],
 "metadata": {
  "kernelspec": {
   "display_name": "Python 3",
   "language": "python",
   "name": "python3"
  },
  "language_info": {
   "codemirror_mode": {
    "name": "ipython",
    "version": 3
   },
   "file_extension": ".py",
   "mimetype": "text/x-python",
   "name": "python",
   "nbconvert_exporter": "python",
   "pygments_lexer": "ipython3",
   "version": "3.5.6"
  }
 },
 "nbformat": 4,
 "nbformat_minor": 4
}
