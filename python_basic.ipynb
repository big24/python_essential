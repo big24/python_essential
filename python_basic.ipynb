{
 "cells": [
  {
   "cell_type": "markdown",
   "metadata": {},
   "source": [
    "# 变量和类型"
   ]
  },
  {
   "cell_type": "code",
   "execution_count": null,
   "metadata": {},
   "outputs": [],
   "source": [
    "# 变量 <= 数据\n",
    "data = 10\n",
    "# 变量的类型实际是数据的类型\n",
    "print(type(data), type(10), type(1.5), type(\"Hello\"))"
   ]
  },
  {
   "cell_type": "markdown",
   "metadata": {},
   "source": [
    "# 整数"
   ]
  },
  {
   "cell_type": "code",
   "execution_count": null,
   "metadata": {},
   "outputs": [],
   "source": [
    "# python的大整数, **表示次方\n",
    "big_int = 2**1000\n",
    "# python支持十六进制\n",
    "hex_int = 0x1f\n",
    "# python3的除法是自动支持浮点数的\n",
    "print(1/2, 1.0/2, 1/2.0)\n",
    "# python的变量交换\n",
    "num1, num2 = 10, 15 # 创建tuple并赋予变量\n",
    "print(num1, num2)\n",
    "num1, num2 = num2, num1 # 创建tuple并赋予变量\n",
    "print(num1, num2)"
   ]
  },
  {
   "cell_type": "markdown",
   "metadata": {},
   "source": [
    "# 运算符"
   ]
  },
  {
   "cell_type": "code",
   "execution_count": null,
   "metadata": {},
   "outputs": [],
   "source": [
    "# python的算术运算, //取整 %取余\n",
    "print(5//2, 5%2)\n",
    "# 赋值运算\n",
    "value = 10\n",
    "value += 5\n",
    "# 位运算  15 => 1101 右移两位 => 11 => 3\n",
    "print(value >> 2)"
   ]
  },
  {
   "cell_type": "markdown",
   "metadata": {},
   "source": [
    "# 浮点数"
   ]
  },
  {
   "cell_type": "code",
   "execution_count": null,
   "metadata": {},
   "outputs": [],
   "source": [
    "# 浮点数就是小数\n",
    "print(-1.1, 2.0)\n",
    "# python支持科学计数法\n",
    "print(1e-5, -3e4)"
   ]
  },
  {
   "cell_type": "markdown",
   "metadata": {},
   "source": [
    "# 布尔型"
   ]
  },
  {
   "cell_type": "code",
   "execution_count": null,
   "metadata": {},
   "outputs": [],
   "source": [
    "# 比较运算产生布尔型\n",
    "print(1 != 1, 1 == 1, 1 < 2 < 3, 2 < 5 < 4, 1 < 2 > 3,  1 < 3 > 2)\n",
    "# 优先级: 非 > 与 > 或\n",
    "statement = not True and True or False\n",
    "print(statement)\n",
    "# 建议用括号显示出期望的运算顺序\n",
    "statement = (((not True) and True) or False)\n",
    "print(statement)\n",
    "# 布尔型经常用于逻辑判断\n",
    "price = 10\n",
    "num = 5\n",
    "print(price < 15 and num > 3)"
   ]
  },
  {
   "cell_type": "markdown",
   "metadata": {},
   "source": [
    "# 控制结构"
   ]
  },
  {
   "cell_type": "code",
   "execution_count": null,
   "metadata": {},
   "outputs": [],
   "source": [
    "# if语句\n",
    "condition = True\n",
    "\n",
    "if condition:\n",
    "    print(\"Condition True\")\n",
    "else:\n",
    "    print(\"Condition False\")\n",
    "\n",
    "# elif\n",
    "price = 5\n",
    "\n",
    "if price > 10:\n",
    "    print(\"price > 10\")\n",
    "elif price > 5:\n",
    "    print(\"price > 5\")\n",
    "else:\n",
    "    print(\"price <= 5\")\n",
    "    \n",
    "# 三元运算符\n",
    "status = \"start\" if condition else \"stop\"\n",
    "print(status)"
   ]
  },
  {
   "cell_type": "markdown",
   "metadata": {},
   "source": [
    "# 循环结构"
   ]
  },
  {
   "cell_type": "code",
   "execution_count": null,
   "metadata": {},
   "outputs": [],
   "source": [
    "# 列表 (后面会仔细讲)\n",
    "scores = [90, 89, 99, 60, 100]\n",
    "\n",
    "# 打印所有元素\n",
    "print(scores)\n",
    "\n",
    "# 根据下标访问元素\n",
    "print(scores[0], scores[1])\n",
    "\n",
    "# 循环列表\n",
    "for score in scores:\n",
    "    print(score)\n",
    "\n",
    "# 按下标循环：生成下标\n",
    "for i in range(len(scores)): # [0, length)\n",
    "    print(scores[i])\n",
    "\n",
    "# range(start, stop, step)    \n",
    "    \n",
    "for i in range(1, len(scores)): # [left, right)\n",
    "    print(scores[i])    \n",
    "\n",
    "for i in range(0, 7, 2):\n",
    "    print(i)\n",
    "    \n",
    "# 访问不到0, 如果需要0, 右边应该设置位-1\n",
    "for i in range(7, 0, -1): \n",
    "    print(i)"
   ]
  },
  {
   "cell_type": "markdown",
   "metadata": {},
   "source": [
    "# enumerate"
   ]
  },
  {
   "cell_type": "code",
   "execution_count": null,
   "metadata": {},
   "outputs": [],
   "source": [
    "my_list = ['apple', 'banana', 'grapes', 'pear']\n",
    "\n",
    "# 序号\n",
    "for idx, item in enumerate(my_list):\n",
    "    print(idx, item)\n",
    "\n",
    "# 让下标从100开始\n",
    "for idx, item in enumerate(my_list, 100):\n",
    "    print(idx, item)\n",
    "\n",
    "# 快速生成元组列表\n",
    "print(list(enumerate(my_list, 1)))"
   ]
  },
  {
   "cell_type": "markdown",
   "metadata": {},
   "source": [
    "# break and continue"
   ]
  },
  {
   "cell_type": "code",
   "execution_count": null,
   "metadata": {},
   "outputs": [],
   "source": [
    "for i in range(10):\n",
    "    if i == 5:\n",
    "        break\n",
    "    print(i)\n",
    "\n",
    "for i in range(10):\n",
    "    if i == 5:\n",
    "        continue\n",
    "    print(i)"
   ]
  },
  {
   "cell_type": "markdown",
   "metadata": {},
   "source": [
    "# for else 语句"
   ]
  },
  {
   "cell_type": "code",
   "execution_count": null,
   "metadata": {},
   "outputs": [],
   "source": [
    "for item in range(10):\n",
    "    if item == 11:\n",
    "        print(\"We found it!\")\n",
    "        break\n",
    "else:\n",
    "    print(\"Do something else!\")\n",
    "    \n",
    "# 上面的for else等价于以下的实现\n",
    "found = False\n",
    "for item in range(10):\n",
    "    if item == 11:\n",
    "        found = True\n",
    "        break\n",
    "\n",
    "if found:\n",
    "    print(\"We found it!\")\n",
    "else:\n",
    "    print(\"Do something else!\")"
   ]
  },
  {
   "cell_type": "markdown",
   "metadata": {},
   "source": [
    "# while 循环"
   ]
  },
  {
   "cell_type": "code",
   "execution_count": null,
   "metadata": {},
   "outputs": [],
   "source": [
    "i = 0\n",
    "while i < 10:\n",
    "    print(i)\n",
    "    i += 1"
   ]
  },
  {
   "cell_type": "markdown",
   "metadata": {},
   "source": [
    "# 函数"
   ]
  },
  {
   "cell_type": "code",
   "execution_count": null,
   "metadata": {},
   "outputs": [],
   "source": [
    "# 定义函数\n",
    "def find_number(nums, target):\n",
    "    for num in nums:\n",
    "        if num == target:\n",
    "            return True\n",
    "        \n",
    "    return False\n",
    "\n",
    "# 调用函数\n",
    "numbers = [1, 2, 3, 4, 5]\n",
    "print(find_number(numbers, 3)) #numbers, 3, 作为参数传递给函数内部\n",
    "print(find_number(numbers, 6)) #numbers, 6, 作为参数传递给函数内部"
   ]
  },
  {
   "cell_type": "markdown",
   "metadata": {},
   "source": [
    "# 列表list"
   ]
  },
  {
   "cell_type": "code",
   "execution_count": null,
   "metadata": {},
   "outputs": [],
   "source": [
    "# 列表\n",
    "scores = [90, 89, 99, 60, 100]\n",
    "\n",
    "# 打印所有元素\n",
    "print(scores)\n",
    "\n",
    "# 两个列表可以用加号拼接\n",
    "more_scores = [50, 80, 88]\n",
    "all_scores = scores + more_scores\n",
    "print(all_scores)\n",
    "\n",
    "# 列表也可以用乘法，相当于重复列表多次\n",
    "repeat_scores = scores * 3\n",
    "print(repeat_scores)\n",
    "\n",
    "# 解开列表\n",
    "print(*all_scores)\n",
    "\n",
    "# 增加到某个位置, 这个位置及其以后的元素都会往后挪动一位\n",
    "scores.insert(1, 87)\n",
    "print(scores)\n",
    "\n",
    "# 删除某个元素 (first match)\n",
    "scores.remove(87)\n",
    "print(scores)\n",
    "\n",
    "del repeat_scores[len(scores):]\n",
    "print(\"After del:{}\".format(repeat_scores))\n",
    "\n",
    "# 增加到列表最后\n",
    "scores.append(100)\n",
    "\n",
    "# 把一个列表的所有元素增加到当前列表的最后\n",
    "scores.extend(more_scores)\n",
    "\n",
    "# 从列表最后删除\n",
    "scores.pop()\n",
    "\n",
    "# 获取某个元素的下标\n",
    "print(scores.index(100))\n",
    "\n",
    "# 查看某个元素是否在列表中\n",
    "print(100 in scores)\n",
    "\n",
    "# 列表的切片操作, 我们获取下标从1到3左闭右开区间的元素\n",
    "print(scores[1:3])\n",
    "\n",
    "# 排序所有元素 changes the list directly and doesn't return any value\n",
    "print(\"Before Sort:{}\".format(scores))\n",
    "scores.sort() \n",
    "#scores.sort(reverse=True)\n",
    "print(\"After Sort:{}\".format(scores))\n",
    "\n",
    "# 翻转顺序 It updates the existing list.\n",
    "scores.reverse()\n",
    "print(scores)\n",
    "\n",
    "# 统计每个元素出现多少次\n",
    "print(scores.count(99))\n",
    "\n",
    "# 统计一个有多少个元素\n",
    "print(len(scores))\n",
    "\n",
    "# 列表的生成操作，pythnoic的写法是下面的这种\n",
    "my_list = [i for i in range(20) if i % 5 == 0]\n",
    "print(my_list)"
   ]
  },
  {
   "cell_type": "markdown",
   "metadata": {},
   "source": [
    "# 元组 Tuple"
   ]
  },
  {
   "cell_type": "code",
   "execution_count": null,
   "metadata": {},
   "outputs": [],
   "source": [
    "# 这是一个tuple吗？\n",
    "guess = (1)\n",
    "print(type(guess))\n",
    "\n",
    "# 括号并不是tuple的定义符，只是我们习惯用括号把生成tuple的元素括起来\n",
    "tuple_2 = 1,2,3,4\n",
    "print(type(tuple_2))\n",
    "\n",
    "# 括号: Cheating Python’s indentation rules\n",
    "counting = (scores\n",
    "     .count(100))\n",
    "print(counting)\n",
    "\n",
    "# 理解 变 与 不变\n",
    "# 下面的代码可以执行吗？\n",
    "tuple_3 = (1, 2, [4, 5])\n",
    "tuple_3[2].append(6)\n",
    "print(tuple_3)\n",
    "\n",
    "# 下面的代码可以执行吗？\n",
    "#tuple_3[2] = [10, 11]\n",
    "\n",
    "# 下面的代码可以执行吗？\n",
    "ret = list(tuple_3)\n",
    "ret[2] = [10, 11]\n",
    "print(ret)"
   ]
  },
  {
   "cell_type": "markdown",
   "metadata": {},
   "source": [
    "# 字符串 string"
   ]
  },
  {
   "cell_type": "code",
   "execution_count": null,
   "metadata": {},
   "outputs": [],
   "source": [
    "# 单个字符也是字符串\n",
    "a_char = 'a'\n",
    "print(type(a_char))\n",
    "\n",
    "# 转义符号 \\: 取消符号的特定含义, 你可以认为\\n也是由一个转义符号 + 一个n组成的，就是说把n本身的含义给变化了，变成了表示换行的意思\n",
    "my_str = 'friend\\'s car\\n'\n",
    "print(my_str)\n",
    "\n",
    "# ord: 读取ASCII码\n",
    "# chr: 把ASCII转换成字符\n",
    "a_ascii = ord('a')\n",
    "a_char = chr(a_ascii)\n",
    "print(a_ascii, a_char)\n",
    "\n",
    "# + 创建了新的字符串\n",
    "sentence = \"I am\" + \" \" + \"a student\"\n",
    "print(sentence)\n",
    "\n",
    "# * \n",
    "more_money = \"Money \" * 3\n",
    "print(more_money)\n",
    "\n",
    "# 索引 + 切片\n",
    "print(sentence[0:4])\n",
    "\n",
    "# find: 找到目标字符串在当前字符串的起始位置, 没有找到返回-1\n",
    "print(sentence.find(\"student\"))\n",
    "print(sentence.find(\"teacher\"))\n",
    "\n",
    "# replace\n",
    "new_sentence = sentence.replace(\"student\", \"teacher\")\n",
    "print(new_sentence)\n",
    "\n",
    "# 格式化字符串, 推荐使用format函数\n",
    "paragraph = \"I am a {}. I am {} old. {} are my {}\".format('teacher', 30, ['Lily', 'Tom'], 'students')\n",
    "print(paragraph)\n",
    "\n",
    "# + 其它类型，要注意转换\n",
    "print('my score is' + str(100))\n",
    "\n",
    "# 翻转字符串，跟range一样\n",
    "print(sentence[::-1]) #倒着访问\n",
    "\n",
    "# 拼接字符串\n",
    "print(' '.join(['I', 'am', 'a', 'teacher']))"
   ]
  }
 ],
 "metadata": {
  "kernelspec": {
   "display_name": "Python 3",
   "language": "python",
   "name": "python3"
  },
  "language_info": {
   "codemirror_mode": {
    "name": "ipython",
    "version": 3
   },
   "file_extension": ".py",
   "mimetype": "text/x-python",
   "name": "python",
   "nbconvert_exporter": "python",
   "pygments_lexer": "ipython3",
   "version": "3.5.6"
  }
 },
 "nbformat": 4,
 "nbformat_minor": 4
}
